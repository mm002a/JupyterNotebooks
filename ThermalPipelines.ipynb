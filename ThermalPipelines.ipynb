{
 "cells": [
  {
   "cell_type": "markdown",
   "metadata": {},
   "source": [
    "# Thermal modelling for Pipelines"
   ]
  },
  {
   "cell_type": "markdown",
   "metadata": {},
   "source": [
    "The reference for this work is:\n",
    "\n",
    "__Guo, Boyun; Lyons, William; Ghalambor, Ali__:\n",
    "Petroleum Production Engineering: A Computer-Assisted Approach\n",
    "_Section 11.4.2.2.2_"
   ]
  },
  {
   "cell_type": "markdown",
   "metadata": {},
   "source": [
    "## Steady flow"
   ]
  },
  {
   "cell_type": "markdown",
   "metadata": {},
   "source": [
    "We have:\n",
    "$$ T(x) = \\frac{1}{\\alpha^2} \\left ( \\beta -\\alpha \\beta x - \\alpha \\gamma - \\exp \\left [ -\\alpha (x+C) \\right ]\\right )$$\n",
    "where: $$\\alpha = \\frac{2 \\pi R k}{v \\rho C_p s A} ~~~,~~~ \\beta = \\alpha G \\cos(\\theta) ~~~,~~~\n",
    "\\gamma = -\\alpha T_{out} ~~~,~~~ C = \\frac{-1}{\\alpha} \\ln \\left ( \\beta - \\alpha^2 T_s -\\alpha \\gamma \\right )$$\n",
    "and: \n",
    "-   $T(x)$ is th emean temperature in the pipe;\n",
    "-   $x$ is the distance down the pipe;\n",
    "-   $R$ is inner radius of insulation;\n",
    "-   $k$ is the thermal conductivity of the insulation material;\n",
    "-   $v$ is the average flow velocity of fluid in the pipe;\n",
    "-   $\\rho$ is fluid density;\n",
    "-   $C_p$ is heat capacity of fluid at constant pressure;\n",
    "-   $s$ is thickness of the insulation layer;\n",
    "-   $A$ is the inner cross-sectional area of pipe;\n",
    "-   $G$ is principal thermal-gradient outside the insulation;\n",
    "-   $\\theta$ is the angle between the principal thermal gradient and pipe orientation;\n",
    "-   $T_{out}$ is temperature of outer medium at the fluid entry location;\n",
    "-   and, finally,\n",
    "-   $T_s$ is temperature of fluid at the fluid entry point."
   ]
  },
  {
   "cell_type": "code",
   "execution_count": 1,
   "metadata": {},
   "outputs": [
    {
     "name": "stdout",
     "output_type": "stream",
     "text": [
      "Guo formula - looks wrong! (Maybe OK for steady problems)\n",
      "Xend 8047 0.1016 0.00635 881 2012 10 28  Area:  0.02850229569923425 7950 Vel:  3.228297462767568 0.35\n",
      "Modified the exponential term\n",
      "alpha:  5.393251004871354e-05  beta:  0  gamma:  -0.0005393251004871354  C:  310854.85249850154  Tout: 10.0\n",
      "T( 0 ):  -7.999999999999982\n"
     ]
    }
   ],
   "source": [
    "import math\n",
    "print(\"Guo formula - looks wrong! (Maybe OK for steady problems)\")\n",
    "#Some pipeline data (Table 11.6)\n",
    "PI = math.pi\n",
    "#PIPE INFO\n",
    "Xend = 8047 # pipe length\n",
    "R = 0.2032/2 # (OD of pipe)/2\n",
    "thick = 0.00635 # pipe (wall) thickness\n",
    "Area = PI*(R-thick)**2\n",
    "kwall = 50.2 # Thermal conductivity of steel: (NOT USED) http://hyperphysics.phy-astr.gsu.edu/hbase/Tables/thrcn.html\n",
    "#Fluid INFO\n",
    "Q = 7950 #M^3/day\n",
    "vel = Q/(24*3600*Area)\n",
    "rho = 881\n",
    "Cp = 2012\n",
    "#Boundary conditions\n",
    "Tout = 10\n",
    "Tin = 28\n",
    "#Case Info\n",
    "s = 0.0254 #1in of insulation\n",
    "k = 0.35 # Thermal conductivity of polyethylene.\n",
    "print(\"Xend\",Xend, R, thick, rho, Cp, Tout, Tin, \" Area: \",Area, Q, \"Vel: \",vel, k)\n",
    "alpha = (2*PI*R*k)/(vel*rho*Cp*s*Area)\n",
    "beta = 0 #No external temperature gradient\n",
    "gamma = -alpha * Tout\n",
    "#C = -math.log(beta - alpha**2 * Tin - alpha*gamma)/alpha = -math.log(alpha**2 * (Tin - Tout)/alpha\n",
    "print(\"Modified the exponential term\")\n",
    "C = -math.log(alpha**2 * (Tin - Tout))/alpha\n",
    "print(\"alpha: \",alpha,\" beta: \", beta, \" gamma: \",gamma,\" C: \", C,\" Tout:\",(-gamma/alpha))\n",
    "x=0\n",
    "T = math.exp(-alpha*(x+C))\n",
    "T = (-alpha*gamma - T)/alpha**2\n",
    "T = (-alpha*gamma - math.exp(-alpha*(x+C)))/alpha**2\n",
    "print(\"T(\",x,\"): \", T)"
   ]
  },
  {
   "cell_type": "code",
   "execution_count": 2,
   "metadata": {},
   "outputs": [
    {
     "name": "stdout",
     "output_type": "stream",
     "text": [
      "Xend 8047 0.1016 0.00635 881 2012 10 28  Area:  0.02850229569923425 7950 Vel:  3.228297462767568 0.35\n"
     ]
    },
    {
     "ename": "NameError",
     "evalue": "name 'C' is not defined",
     "output_type": "error",
     "traceback": [
      "\u001b[1;31m---------------------------------------------------------------------------\u001b[0m",
      "\u001b[1;31mNameError\u001b[0m                                 Traceback (most recent call last)",
      "\u001b[1;32m<ipython-input-2-6e387af415dc>\u001b[0m in \u001b[0;36m<module>\u001b[1;34m\u001b[0m\n\u001b[0;32m     24\u001b[0m \u001b[0mgamma\u001b[0m \u001b[1;33m=\u001b[0m \u001b[1;33m-\u001b[0m\u001b[0malpha\u001b[0m \u001b[1;33m*\u001b[0m \u001b[0mTout\u001b[0m\u001b[1;33m\u001b[0m\u001b[1;33m\u001b[0m\u001b[0m\n\u001b[0;32m     25\u001b[0m \u001b[1;31m#C = -math.log(beta - alpha**2 * Tin -alpha*gamma)\u001b[0m\u001b[1;33m\u001b[0m\u001b[1;33m\u001b[0m\u001b[1;33m\u001b[0m\u001b[0m\n\u001b[1;32m---> 26\u001b[1;33m \u001b[0mprint\u001b[0m\u001b[1;33m(\u001b[0m\u001b[1;34m\"alpha: \"\u001b[0m\u001b[1;33m,\u001b[0m\u001b[0malpha\u001b[0m\u001b[1;33m,\u001b[0m\u001b[1;34m\" beta: \"\u001b[0m\u001b[1;33m,\u001b[0m \u001b[0mbeta\u001b[0m\u001b[1;33m,\u001b[0m \u001b[1;34m\" gamma: \"\u001b[0m\u001b[1;33m,\u001b[0m\u001b[0mgamma\u001b[0m\u001b[1;33m,\u001b[0m\u001b[1;34m\" C: \"\u001b[0m\u001b[1;33m,\u001b[0m \u001b[0mC\u001b[0m\u001b[1;33m)\u001b[0m\u001b[1;33m\u001b[0m\u001b[1;33m\u001b[0m\u001b[0m\n\u001b[0m",
      "\u001b[1;31mNameError\u001b[0m: name 'C' is not defined"
     ]
    }
   ],
   "source": [
    "import math\n",
    "#Some pipeline data (Table 11.6)\n",
    "PI = math.pi\n",
    "#PIPE INFO\n",
    "Xend = 8047 # pipe length\n",
    "R = 0.2032/2 # (OD of pipe)/2\n",
    "thick = 0.00635 # pipe (wall) thickness\n",
    "Area = PI*(R-thick)**2\n",
    "kwall = 50.2 # Thermal conductivity of steel: (NOT USED) http://hyperphysics.phy-astr.gsu.edu/hbase/Tables/thrcn.html\n",
    "#Fluid INFO\n",
    "Q = 7950 #M^3/day\n",
    "vel = Q/(24*3600*Area)\n",
    "rho = 881\n",
    "Cp = 2012\n",
    "#Boundary conditions\n",
    "Tout = 10\n",
    "Tin = 28\n",
    "#Case Info\n",
    "s = 0.0254 #1in of insulation\n",
    "k = 0.35 # Thermal conductivity of polyethylene.\n",
    "print(\"Xend\",Xend, R, thick, rho, Cp, Tout, Tin, \" Area: \",Area, Q, \"Vel: \",vel, k)\n",
    "alpha = (2*PI*R*k)/(vel*rho*Cp*s*Area)\n",
    "beta = 0 #No external temperature gradient\n",
    "gamma = -alpha * Tout\n",
    "C = -math.log(beta - alpha**2 * Tin -alpha*gamma)\n",
    "print(\"alpha: \",alpha,\" beta: \", beta, \" gamma: \",gamma,\" C: \", C)"
   ]
  },
  {
   "cell_type": "code",
   "execution_count": null,
   "metadata": {},
   "outputs": [],
   "source": []
  }
 ],
 "metadata": {
  "kernelspec": {
   "display_name": "Python 3",
   "language": "python",
   "name": "python3"
  },
  "language_info": {
   "codemirror_mode": {
    "name": "ipython",
    "version": 3
   },
   "file_extension": ".py",
   "mimetype": "text/x-python",
   "name": "python",
   "nbconvert_exporter": "python",
   "pygments_lexer": "ipython3",
   "version": "3.7.3"
  }
 },
 "nbformat": 4,
 "nbformat_minor": 2
}
