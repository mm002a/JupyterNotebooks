{
 "cells": [
  {
   "cell_type": "markdown",
   "metadata": {},
   "source": [
    "# Gas compressibility and viscosity"
   ]
  },
  {
   "cell_type": "markdown",
   "metadata": {},
   "source": [
    "We now investigate correlations for gas compressibility factors $Z$ and gas viscosity  $\\mu_g$.\n",
    "The key sources are:\n",
    "1. Ding-Yu Peng & Donald B. Robinson, **A New Two-Constant Equation of State**, *Ind. Eng. Chem. Fundam., Vol. 15, No. 1*, 1976\n",
    "[link](https://pubs.acs.org/doi/abs/10.1021/i160057a011)\n",
    "1. Azad Jarrahian, Babak Aghel, Ehsan Heidaryan, **On the viscosity of natural gas**, *Fuel 150 Pp 609–618*, 2015 [link](https://www.sciencedirect.com/science/article/pii/S0016236115001970)\n",
    "\n",
    "__Status__ 28/4/2020\n",
    "-   Summarised the Peng and Robinson Paper.\n",
    "-   Verified the math and aritmetic at the critical point.\n",
    "-   Computed the compressibilities of methane and ethane (correctly).\n",
    "Possible Futures\n",
    "-   Tie in to Van der Waals forces (engineeringunits link)\n",
    "-   Talk about mixtures.\n",
    "-   Talk about improved correlations.\n",
    "-   Add info about equations of state.\n",
    "-   __Clean-up the code and comments; move utilites out of the way__\n",
    "\n",
    "We start by decomposing pressure into a repulsive and attractive component motivated by non-ideal kinetic theory and an inter-molecular attractive force.\n",
    "\n",
    "$$ P = P_R + P_A = \\frac{RT}{V-b} - \\frac{a}{g(V)} $$ \n",
    "where $b$ is related to the size of the 'hard' molecules (independent of $T$), $a$ is a representation of the inter-molecular attraction (and is a function of $T$). $g(V)$ is a function of the molar volume, $V$. Peng and Robinson suggest that:\n",
    "$$P = \\frac{RT}{V-b} - \\frac{a(T)}{V(V+b)+b(V-b)} ~~~~~~~~~~~~~~~\\textsf{Eqn: PR}$$\n",
    "or, introducing $Z = \\frac{PV}{RT}$ we can write:\n",
    "$$Z^3 - (1-B)Z^2 + (A-3B^2 -2B) Z - (AB -B^2 - B^3) = 0$$\n",
    "where \n",
    "$ A = \\frac{aP}{(RT)^2}, B = \\frac{bP}{RT} $\n",
    "\n",
    "Of course, we can write this as:\n",
    "$$ Z^3 - Z^2 + [ B Z^2 + (A-3B^2 -2B) Z - (AB -B^2 - B^3) ] = 0 \n",
    "$$\n",
    "which is consistant with the statement that $Z = 1$ for an ideal gas (because $ a = b = 0$ for an *ideal* gas).\n",
    "\n",
    "At the critical point we have:\n",
    "$$ \\left. \\frac{\\partial P}{\\partial V} \\right |_T = 0 ~~\\textsf{and}~~  \\left. \\frac{\\partial^2 P}{\\partial V^2} \\right |_T = 0$$ which leads to:\n",
    "$$\n",
    "a(T_c) = 0.45724 \\frac{R^2T_c^2}{P_c} , ~~b(T_c) = 0.07780 \\frac{RT_c}{P_c} ~~\\textsf{and}~~ Z_c = 0.307 \n",
    "$$\n",
    "\n",
    "At other temperatures it is reasonable to write: $b(T) = b(T_c)$ (a constant)\n",
    "and $a(T) = a(T_c)\\times\\alpha(T_r,\\omega)$ \n",
    "\n",
    "where $T_r = T/T_c$ is the reduced temperature and $\\omega$ is an 'acentric' factor; clearly we need $\\alpha(1,\\omega) \\equiv 1 ~~~~\\forall~ \\omega$.\n",
    "\n",
    "Comparison with experimental data gives:\n",
    "\\begin{align}\n",
    "\\sqrt{\\alpha} = 1 + \\kappa \\left(1 -T_r^{\\frac{1}{2}}\\right)\n",
    "\\end{align}\n",
    "with:\n",
    "$$\\kappa = 0.37464 + 1.54226\\omega - 0.26992 \\omega^2 $$\n",
    "Values of $\\omega$ can be found from this graph taken from Peng and Robinson.\n",
    "(_This data is also available in tabular form at: [Reid et al.](http://www.kaylaiacovino.com/Petrology_Tools/Critical_Constants_and_Acentric_Factors.htm))_\n",
    "<img src=\"DocPengRobDiag.png\" />\n",
    "\n",
    "For methane we have see: [USGS web page](https://pubs.usgs.gov/of/2005/1451/equation.html):\n",
    "$\\omega = 0.0115, T_c = 191.15K, P_c = 4.641 MPa$\n",
    "The ideal gas constant $R = 8.314413 J mol^{-1}K^{-1}$\n",
    "\n",
    "For enthalpy diagrams of other fluids see this [on-line worksheet](https://www.questconsult.com/thermo/enthalpy_pressure_diagram.html):\n",
    "\n",
    "This data is available in tabular form at: [Reid et al.](http://www.kaylaiacovino.com/Petrology_Tools/Critical_Constants_and_Acentric_Factors.htm)\n",
    "\n",
    "Taken from:\n",
    "R. C. Reid, J. M. Prausnitz, and B. E. Poling, 1987, The Properties of Gases and Liquids, 4th Ed. New York: McGraw-Hill\n",
    "\n",
    " ## Other relevant web sites\n",
    "1.  https://engineeringunits.com/compressibility-factor-calculator-z/\n",
    "1.  https://petrowiki.org/Real_gases Hopeless\n",
    "3.  https://checalc.com/solved/naturalgasZ.html\n",
    "4.  https://pubs.usgs.gov/of/2005/1451/equation.html (Peng-Robinson equation of state)\n",
    "5.  http://www.kaylaiacovino.com/Petrology_Tools/Critical_Constants_and_Acentric_Factors.htm\n",
    "1.  https://engineeringunits.com/compressibility-factor-z-factor/ (Deals with mixtures e.g. Kay's rule - worth a look.)\n",
    "1.  http://www.peacesoftware.de/einigewerte/methan_e.html (Compressibility factors - and other thermodynamic properties - for a few interesting gases.)"
   ]
  },
  {
   "cell_type": "code",
   "execution_count": 1,
   "metadata": {},
   "outputs": [
    {
     "name": "stdout",
     "output_type": "stream",
     "text": [
      "Z= 1  A= 0  B= 0 ANS= 0 0\n",
      "(Ideal Gas  0\n",
      "Z= 0.307  A= 0.45724  B= 0.0778 ANS= -2.691488000007569e-06 -2.691488000007569e-06\n",
      "Critical Point  -2.691488000007569e-06\n"
     ]
    }
   ],
   "source": [
    "def PolyZ(Z, A, B):\n",
    "    \"\"\"\n",
    "    Evaluate the Peng-Robinson polynomial for the non-dimensional compressibility (Z):\n",
    "    P(Z,A,B) = Z^3 -(1-B)Z^2 + (A-3B^2-2B)Z-(AB-B^2-B^3)\n",
    "    Try:\n",
    "    A=B=0 (the ideal gas case) => Z=0\n",
    "    and\n",
    "    PolyZ(0.307,0.45724,0.07780) =0 The coefficients in the PR paper evaluated at the critical point.\n",
    "    \"\"\"\n",
    "    a3 = 1\n",
    "    a2 = - (1-B)\n",
    "    a1 = A-3*B*B - 2*B\n",
    "    a0 = -( A*B - B*B - B*B*B)\n",
    "    PZ = a3*Z*Z*Z +a2*Z*Z + a1 *Z + a0\n",
    "    FZ = Z*Z*Z - (1-B)*Z*Z + (A-3*B*B - 2*B) *Z -( A*B - B*B - B*B*B)\n",
    "    print(\"Z=\",Z,\" A=\",A,\" B=\",B,\"ANS=\",PZ,FZ)\n",
    "    return PZ\n",
    "print(\"(Ideal Gas \",PolyZ(1,0,0))\n",
    "print(\"Critical Point \",PolyZ(0.307,0.45724,0.07780))"
   ]
  },
  {
   "cell_type": "markdown",
   "metadata": {},
   "source": [
    "#### Notes on PR coefficients at the critical point\n",
    "<a id='Notes1'></a>\n",
    "We differentiate Eqn:PR wrt P:\n",
    "\n",
    "\\begin{align}\n",
    "\\left . \\frac{\\partial P}{\\partial V} \\right |_T &= - \\frac{RT}{(V-b)^2} + 2a \\frac{(V + b)}{(V^2+2bV-b^2)^2}\\\\ \n",
    "\\end{align}\n",
    "\n",
    "which can be written in normalised form as:\n",
    "\\begin{align}\n",
    "- PositiveFn \\times \\frac{P^4}{(RT)^5}\\left .\\frac{\\partial P}{\\partial V} \\right |_T = \\{ 2A (Z+B)(Z-B)^2 - (Z^2 + 2BZ -B^2)^2 \\}\n",
    "\\end{align}\n",
    "\n",
    "Evaluating this at the critical point we have: \n",
    "$\n",
    "\\left .\\frac{\\partial P}{\\partial V} \\right |_T = 0 \n",
    "$\n",
    "which is satisfied by the coefficients and value given above."
   ]
  },
  {
   "cell_type": "code",
   "execution_count": 3,
   "metadata": {},
   "outputs": [
    {
     "name": "stdout",
     "output_type": "stream",
     "text": [
      "Gradient at Critical Point  -7.684081830307277e-07\n"
     ]
    }
   ],
   "source": [
    "def DPolyZ(Z,A,B):\n",
    "    T1 = 2*A*(Z+B)*(Z-B)*(Z-B)\n",
    "    T2 = Z*Z + 2*B*Z - B*B\n",
    "    T3 = T2*T2\n",
    "    DPZ = T1 - T3\n",
    "    return DPZ\n",
    "print(\"Gradient at Critical Point \",DPolyZ(0.307,0.45724,0.07780))"
   ]
  },
  {
   "cell_type": "markdown",
   "metadata": {},
   "source": [
    "We differentiate Eqn:PR **twice** wrt P:\n",
    "\n",
    "\\begin{align}\n",
    "\\left . \\frac{\\partial^2 P}{\\partial V^2} \\right |_T &= \\frac{2RT}{(V-b)^3} - 2a \\frac{(3V^2+6BV + 5b^2)}{(V^2+2bV-b^2)^3}\\\\ \n",
    "\\end{align}\n",
    "\n",
    "which can be written in normalised form as:\n",
    "\\begin{align}\n",
    "- 𝑃𝑜𝑠𝑖𝑡𝑖𝑣𝑒𝐹𝑛 \\times \\frac{RT^2}{P^3}\\left .\\frac{\\partial^2 P}{\\partial V^2} \\right |_T &= \n",
    "2\\left \\{ -A \\frac{3Z^2+6BZ+5B^2}{(Z^2+2BZ - B^2)^3}  + \\frac{1}{(Z-B)^3} \\right \\}\\\\\n",
    "&=\\left \\{ \\frac{1}{(Z-B)^3} - A \\frac{3Z^2+6BZ+5B^2}{(Z^2+2BZ - B^2)^3} \\right \\}\n",
    "\\end{align}\n",
    "\n",
    "Evaluating this at the critical point we have: \n",
    "$\n",
    "\\left .\\frac{\\partial^2 P}{\\partial V^2} \\right |_T = 0 \n",
    "$\n",
    "which is satisfied by the coefficients and value given above."
   ]
  },
  {
   "cell_type": "code",
   "execution_count": 4,
   "metadata": {},
   "outputs": [
    {
     "name": "stdout",
     "output_type": "stream",
     "text": [
      "Second Gradient at Critical Point  -0.04366953294452003 That's quite small?\n"
     ]
    }
   ],
   "source": [
    "def D2PolyZ(Z,A,B):\n",
    "    C1 = 3*Z**2+6*B*Z+5*B**2\n",
    "    C2 = (Z**2+2*B*Z-B**2)**3\n",
    "    C3 = A*C1/C2\n",
    "    C4 = 1/(Z-B)**3\n",
    "    D2PZ = C3-C4\n",
    "    return D2PZ\n",
    "print(\"Second Gradient at Critical Point \",D2PolyZ(0.307,0.45724,0.07780),\"That's quite small?\")"
   ]
  },
  {
   "cell_type": "code",
   "execution_count": 46,
   "metadata": {},
   "outputs": [
    {
     "name": "stdout",
     "output_type": "stream",
     "text": [
      "Compressibility for an ideal gas:\n",
      "x:  [1.0, 0, 0] 1.0 0 0\n",
      "x:  [0.307, 0.45724, 0.0778] 0.307 0.45724 0.0778\n",
      "Z,A,B:   3.07000e-01  4.57240e-01  7.78000e-02  F:   -2.69e-06  DP/DV:  -7.7e-07 D2P/DV2:  -4.4e-02\n",
      "F:  [-2.691488000014508e-06, -7.684081830307277e-07, -0.04366953294452003]\n",
      "Behaviour at the critical point - confirms PR result (Eqns. 9,10,11)\n",
      "Z,A,B:   3.07000e-01  4.57240e-01  7.78000e-02  F:   -2.69e-06  DP/DV:  -7.7e-07 D2P/DV2:  -4.4e-02\n",
      "Z,A,B:   3.07000e-01  4.57240e-01  7.78000e-02  F:   -2.69e-06  DP/DV:  -7.7e-07 D2P/DV2:  -4.4e-02\n",
      "Z,A,B:   3.07000e-01  4.57240e-01  7.78000e-02  F:   -2.69e-06  DP/DV:  -7.7e-07 D2P/DV2:  -4.4e-02\n",
      "Z,A,B:   3.07000e-01  4.57240e-01  7.78000e-02  F:   -2.69e-06  DP/DV:  -7.7e-07 D2P/DV2:  -4.4e-02\n",
      "Z,A,B:   3.07000e-01  4.57240e-01  7.78000e-02  F:   -2.69e-06  DP/DV:  -7.7e-07 D2P/DV2:  -4.4e-02\n",
      "Z,A,B:   3.07000e-01  4.57240e-01  7.78000e-02  F:   -2.69e-06  DP/DV:  -7.7e-07 D2P/DV2:  -4.4e-02\n",
      "Z,A,B:   3.07399e-01  4.57236e-01  7.77963e-02  F:    1.15e-09  DP/DV:  -1.3e-08 D2P/DV2:  -3.4e-04\n",
      "Z,A,B:   3.07401e-01  4.57236e-01  7.77961e-02  F:   -1.71e-10  DP/DV:  -7.0e-11 D2P/DV2:  -2.4e-06\n",
      "Z,A,B:   3.07401e-01  4.57236e-01  7.77961e-02  F:    6.33e-13  DP/DV:  -2.3e-13 D2P/DV2:  -6.5e-09\n",
      "Z,A,B:   3.07401e-01  4.57236e-01  7.77961e-02  F:   -3.53e-15  DP/DV:   8.5e-16 D2P/DV2:   3.2e-11\n",
      "Z,A,B:   3.07401e-01  4.57236e-01  7.77961e-02  F:   -3.53e-15  DP/DV:   8.5e-16 D2P/DV2:   3.2e-11\n",
      "Result from optimize.fsolve [0.30740131 0.45723553 0.07779607] [-3.5318969970887792e-15, 8.534839501805891e-16, 3.204547738278052e-11]\n"
     ]
    }
   ],
   "source": [
    "from scipy import optimize\n",
    "def func(x):\n",
    "    \"\"\"\n",
    "    A function to evaluate a scaled function of P, DP/DV, D2P/DV2\n",
    "    when written in the Peng-Robinson notation of:\n",
    "    Z,A,B\n",
    "    \"\"\"\n",
    "#First switch to normal notation\n",
    "    Z=x[0]\n",
    "    A=x[1]\n",
    "    B=x[2]\n",
    "    F=[9.8765,9.0,9.0]\n",
    "#    print(\"Z,A,B: \",Z,A,B)\n",
    "#Calculate P\n",
    "    F[0] = Z**3 - (1-B)*Z**2 +(A-3*B**2-2*B)*Z - (A*B-B**2-B**3)\n",
    "#Calculate DP/DV\n",
    "    T1 = 2*A*(Z+B)*(Z-B)*(Z-B)\n",
    "    T2 = Z*Z + 2*B*Z - B*B\n",
    "    T3 = T2*T2\n",
    "    F[1] = T1 - T3\n",
    "#Calculate D2P/DV2\n",
    "    C1 = 3*Z**2+6*B*Z+5*B**2\n",
    "    C2 = (Z**2+2*B*Z-B**2)**3\n",
    "    C3 = A*C1/C2\n",
    "    C4 = 1/(Z-B)**3\n",
    "    F[2] = C3-C4\n",
    "    \n",
    "    print(\"Z,A,B: \",'{:12.5e}'.format(Z),'{:12.5e}'.format(A),'{:12.5e}'.format(B),\n",
    "          \" F: \",'{:10.2e}'.format(F[0]),\" DP/DV:\",'{:9.1e}'.format(F[1]),\"D2P/DV2:\",'{:9.1e}'.format(F[2]))\n",
    "\n",
    "    return F\n",
    "\n",
    "print(\"Compressibility for an ideal gas:\")\n",
    "x=x0 = [1.0,0,0]\n",
    "print(\"x: \",x, x[0],x[1],x[2])\n",
    "x=x0 = [0.307,0.45724,0.07780]\n",
    "print(\"x: \",x, x[0],x[1],x[2])\n",
    "\n",
    "FN = func(x0)\n",
    "print(\"F: \",FN)\n",
    "\n",
    "print(\"Behaviour at the critical point - confirms PR result (Eqns. 9,10,11)\")\n",
    "x=optimize.fsolve(func,x0,full_output=0)\n",
    "print(\"Result from optimize.fsolve\",x,func(x))\n"
   ]
  },
  {
   "cell_type": "markdown",
   "metadata": {},
   "source": [
    "# Compressibility of Methane for the Frigg pipeline conditions."
   ]
  },
  {
   "cell_type": "code",
   "execution_count": 61,
   "metadata": {},
   "outputs": [
    {
     "name": "stdout",
     "output_type": "stream",
     "text": [
      "Z= 1  A= 0  B= 0 ANS= 0\n",
      "Ideal Gas - PR cubic should be 0 0\n",
      "Z= 0.3074013086989165  A= 0.4572355289212813  B= 0.07779607390386772 ANS= -3.5318969970887792e-15\n",
      "Critical Point - PR cubic should be 0.0: -3.5318969970887792e-15\n"
     ]
    }
   ],
   "source": [
    "def PRZ3(Z):\n",
    "    \"\"\"\n",
    "    Evaluate the Peng-Robinson polynomial for the non-dimensional compressibility (Z):\n",
    "    P(Z,A,B) = Z^3 -(1-B)Z^2 + (A-3B^2-2B)Z-(AB-B^2-B^3)\n",
    "    Try:\n",
    "    A=B=0 (the ideal gas case) => Z=0\n",
    "    and\n",
    "    PolyZ(0.307,0.45724,0.07780) =0 The coefficients in the PR paper evaluated at the critical point.\n",
    "    \"\"\"\n",
    "    PRZ3 = Z**3 - (1-Bcap)*Z**2 + (Acap-3*Bcap**2 - 2*Bcap)*Z -( Acap*Bcap - Bcap**2 - Bcap**3)\n",
    "    print(\"Z=\",Z,\" A=\",Acap,\" B=\",Bcap,\"ANS=\",PRZ3)\n",
    "    return PRZ3\n",
    "Acap=Bcap=0\n",
    "print(\"Ideal Gas - PR cubic should be 0\",PRZ3(1))\n",
    "Acap=x[1]\n",
    "Bcap=x[2]\n",
    "print(\"Critical Point - PR cubic should be 0.0:\",PRZ3(x[0]))"
   ]
  },
  {
   "cell_type": "code",
   "execution_count": 72,
   "metadata": {},
   "outputs": [
    {
     "name": "stdout",
     "output_type": "stream",
     "text": [
      "Compressibility of Methane\n",
      "Case 9: T =: 313 K, P = 13010000.0 Pa\n",
      "alpha 0.7926148333113581 a(Tr,omega) 0.362411662539972 b(Tc) 0.07779607390386772 ?0.07780\n",
      "START - Acap: 0.37890280709031304 Bcap: 0.13318440448666893 ZPT: [0.30740131 0.45723553 0.07779607]\n",
      "Z= [0.725]  A= 0.37890280709031304  B= 0.13318440448666893 ANS= [-0.06189843]\n",
      "Z= [0.725]  A= 0.37890280709031304  B= 0.13318440448666893 ANS= [-0.06189843]\n",
      "Z= [0.725]  A= 0.37890280709031304  B= 0.13318440448666893 ANS= [-0.06189843]\n",
      "Z= [0.72500001]  A= 0.37890280709031304  B= 0.13318440448666893 ANS= [-0.06189843]\n",
      "Z= [0.888186]  A= 0.37890280709031304  B= 0.13318440448666893 ANS= [0.03918211]\n",
      "Z= [0.8249298]  A= 0.37890280709031304  B= 0.13318440448666893 ANS= [-0.00993247]\n",
      "Z= [0.83772214]  A= 0.37890280709031304  B= 0.13318440448666893 ANS= [-0.00108712]\n",
      "Z= [0.83929436]  A= 0.37890280709031304  B= 0.13318440448666893 ANS= [3.69282156e-05]\n",
      "Z= [0.83924271]  A= 0.37890280709031304  B= 0.13318440448666893 ANS= [-1.29547632e-07]\n",
      "Z= [0.83924289]  A= 0.37890280709031304  B= 0.13318440448666893 ANS= [-1.53441079e-11]\n",
      "Z= [0.83924289]  A= 0.37890280709031304  B= 0.13318440448666893 ANS= [6.9388939e-18]\n",
      "Acap: 0.37890280709031304 Bcap: 0.13318440448666893 ZPT: [0.83924289]\n",
      "The Compressibility of methane at Frigg conditions is: [0.83924289] Looks good\n",
      "Compressibility of Ethane\n",
      "Case 9: T =: 313 K, P = 13010000.0 Pa\n",
      "alpha 0.9870655075349015 a(Tr,omega) 0.362411662539972 b(Tc) 0.07779607390386772 ?0.07780\n",
      "START - Acap: 1.145493977613641 Bcap: 0.20236707289506495 ZPT: [0.30740131 0.45723553 0.07779607]\n",
      "Z= [0.725]  A= 1.145493977613641  B= 0.20236707289506495 ANS= [0.22723125]\n",
      "Z= [0.725]  A= 1.145493977613641  B= 0.20236707289506495 ANS= [0.22723125]\n",
      "Z= [0.725]  A= 1.145493977613641  B= 0.20236707289506495 ANS= [0.22723125]\n",
      "Z= [0.72500001]  A= 1.145493977613641  B= 0.20236707289506495 ANS= [0.22723126]\n",
      "Z= [0.50613167]  A= 1.145493977613641  B= 0.20236707289506495 ANS= [0.05549597]\n",
      "Z= [0.43540473]  A= 1.145493977613641  B= 0.20236707289506495 ANS= [0.01779704]\n",
      "Z= [0.40201571]  A= 1.145493977613641  B= 0.20236707289506495 ANS= [0.0018978]\n",
      "Z= [0.39803026]  A= 1.145493977613641  B= 0.20236707289506495 ANS= [6.52146133e-05]\n",
      "Z= [0.39788844]  A= 1.145493977613641  B= 0.20236707289506495 ANS= [2.3431944e-07]\n",
      "Z= [0.39788793]  A= 1.145493977613641  B= 0.20236707289506495 ANS= [2.88397639e-11]\n",
      "Z= [0.39788793]  A= 1.145493977613641  B= 0.20236707289506495 ANS= [5.55111512e-17]\n",
      "Acap: 1.145493977613641 Bcap: 0.20236707289506495 ZPT: [0.39788793]\n",
      "The Compressibility of ethane at Frigg conditions is: [0.39788793] Looks good\n"
     ]
    }
   ],
   "source": [
    "import math\n",
    "from scipy import optimize\n",
    "R = 8.314413 # The ideal gas constant\n",
    "print(\"Compressibility of Methane\")\n",
    "#R. C. Reid, J. M. Prausnitz, & B. E. Poling, 1987, The Properties of Gases & Liquids, 4th Ed. New York: McGraw-Hill\n",
    "#    http://www.kaylaiacovino.com/Petrology_Tools/Critical_Constants_and_Acentric_Factors.htm\n",
    "omega = 0.0115 # acentric factor for methane\n",
    "kappa = 0.37464+1.54226*omega-0.26992*omega**2\n",
    "Tc = 191.15; Pc = 4.641E6 # Methane critical point properties\n",
    "T= 313 ; P = 13.01E6 # Frigg pipeline conditions (Case 9) Frigg - MCP01\n",
    "Tr = T/Tc; Pr = P/Pc #Compute reduced temperature and pressure\n",
    "print(\"Case 9: T =:\",T,\"K, P =\",P,\"Pa\")\n",
    "alpha = (1+kappa*(1-math.sqrt(Tr)))**2\n",
    "print(\"alpha\",alpha,\"a(Tr,omega)\",aT,\"b(Tc)\",x[2],\"?0.07780\")\n",
    "Acap = (x[1]*Pr*alpha)/Tr**2\n",
    "Bcap = (x[2]*Pr)/Tr\n",
    "ZPT = 0\n",
    "print(\"START - Acap:\",Acap,\"Bcap:\",Bcap, \"ZPT:\",x)\n",
    "zx=optimize.fsolve(PRZ3,0.725,full_output=0)\n",
    "print(\"Acap:\",Acap,\"Bcap:\",Bcap, \"ZPT:\",zx)\n",
    "print(\"The Compressibility of methane at Frigg conditions is:\", zx, \"Looks good\")\n",
    "#\n",
    "#\n",
    "#\n",
    "print(\"Compressibility of Ethane\")\n",
    "omega = 0.099 # acentric factor for ethane\n",
    "kappa = 0.37464+1.54226*omega-0.26992*omega**2\n",
    "Tc = 305.4; Pc = 4.88E6 # Ethane critical point properties\n",
    "T= 313 ; P = 13.01E6 # Frigg pipeline conditions (Case 9) Frigg - MCP01\n",
    "Tr = T/Tc; Pr = P/Pc #Compute reduced temperature and pressure\n",
    "print(\"Case 9: T =:\",T,\"K, P =\",P,\"Pa\")\n",
    "alpha = (1+kappa*(1-math.sqrt(Tr)))**2\n",
    "print(\"alpha\",alpha,\"a(Tr,omega)\",aT,\"b(Tc)\",x[2],\"?0.07780\")\n",
    "Acap = (x[1]*Pr*alpha)/Tr**2\n",
    "Bcap = (x[2]*Pr)/Tr\n",
    "ZPT = 0\n",
    "print(\"START - Acap:\",Acap,\"Bcap:\",Bcap, \"ZPT:\",x)\n",
    "zx=optimize.fsolve(PRZ3,0.725,full_output=0)\n",
    "print(\"Acap:\",Acap,\"Bcap:\",Bcap, \"ZPT:\",zx)\n",
    "print(\"The Compressibility of ethane at Frigg conditions is:\", zx, \"Looks good\")\n"
   ]
  },
  {
   "cell_type": "code",
   "execution_count": 67,
   "metadata": {},
   "outputs": [
    {
     "name": "stdout",
     "output_type": "stream",
     "text": [
      "Z= [0.   0.05 0.1  0.15 0.2  0.25 0.3  0.35 0.4  0.45 0.5  0.55 0.6  0.65\n",
      " 0.7  0.75 0.8  0.85 0.9  0.95]  A= 0.37890280709031304  B= 0.13318440448666893 ANS= [-0.03036342 -0.02943947 -0.0320996  -0.03759381 -0.0451721  -0.05408446\n",
      " -0.0635809  -0.07291142 -0.08132602 -0.0880747  -0.09240745 -0.09357428\n",
      " -0.09082519 -0.08341018 -0.07057925 -0.05158239 -0.02566961  0.00790909\n",
      "  0.04990371  0.10106426]\n"
     ]
    },
    {
     "data": {
      "image/png": "[encoded data removed]",
      "text/plain": [
       "<Figure size 432x288 with 1 Axes>"
      ]
     },
     "metadata": {
      "needs_background": "light"
     },
     "output_type": "display_data"
    }
   ],
   "source": [
    "import matplotlib.pyplot as plt\n",
    "import numpy as np\n",
    "%matplotlib inline\n",
    "# evenly sampled time at 200ms intervals\n",
    "t = np.arange(0, 1.0, 0.05)\n",
    "zero = t*0\n",
    "# red dashes, blue squares and green triangles\n",
    "plt.plot(t, PRZ3(t),t,zero)\n",
    "plt.show()"
   ]
  },
  {
   "cell_type": "code",
   "execution_count": null,
   "metadata": {},
   "outputs": [],
   "source": []
  }
 ],
 "metadata": {
  "kernelspec": {
   "display_name": "Python 3",
   "language": "python",
   "name": "python3"
  },
  "language_info": {
   "codemirror_mode": {
    "name": "ipython",
    "version": 3
   },
   "file_extension": ".py",
   "mimetype": "text/x-python",
   "name": "python",
   "nbconvert_exporter": "python",
   "pygments_lexer": "ipython3",
   "version": "3.7.3"
  }
 },
 "nbformat": 4,
 "nbformat_minor": 4
}
